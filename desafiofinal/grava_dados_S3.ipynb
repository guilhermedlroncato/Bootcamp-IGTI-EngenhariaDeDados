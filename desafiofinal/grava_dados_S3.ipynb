{
 "metadata": {
  "language_info": {
   "codemirror_mode": {
    "name": "ipython",
    "version": 3
   },
   "file_extension": ".py",
   "mimetype": "text/x-python",
   "name": "python",
   "nbconvert_exporter": "python",
   "pygments_lexer": "ipython3",
   "version": "3.7.6-final"
  },
  "orig_nbformat": 2,
  "kernelspec": {
   "name": "python3",
   "display_name": "Python 3",
   "language": "python"
  }
 },
 "nbformat": 4,
 "nbformat_minor": 2,
 "cells": [
  {
   "cell_type": "code",
   "execution_count": 2,
   "metadata": {},
   "outputs": [],
   "source": [
    "import boto3\n",
    "import MySQLdb # para o MySQ"
   ]
  },
  {
   "cell_type": "code",
   "execution_count": 3,
   "metadata": {},
   "outputs": [],
   "source": [
    "# conexão com o banco\n",
    "con = MySQLdb.connect(host=\"localhost\", user=\"root\", passwd=\"root\", db=\"dw\")\n",
    "\n",
    "# seleciona o DW\n",
    "con.select_db('DW')"
   ]
  },
  {
   "cell_type": "code",
   "execution_count": 8,
   "metadata": {},
   "outputs": [],
   "source": [
    "# seleciona os dados\n",
    "cursor = con.cursor()\n",
    "regioes = []\n",
    "\n",
    "cursor.execute(\"SELECT * FROM dw.ibge_regioes\")\n",
    "\n",
    "for row in cursor.fetchall():\n",
    "    regioes.append(row)"
   ]
  },
  {
   "cell_type": "code",
   "execution_count": 25,
   "metadata": {},
   "outputs": [
    {
     "output_type": "execute_result",
     "data": {
      "text/plain": [
       "{'ResponseMetadata': {'RequestId': 'F9BA45798F723924',\n",
       "  'HostId': '7CqIFebE0GqUFuAs5+drRhgDl++dHHdg8frPA7exB8JaoJ7StenIGEnREAFYXAUtJ4mJg//7uk8=',\n",
       "  'HTTPStatusCode': 200,\n",
       "  'HTTPHeaders': {'x-amz-id-2': '7CqIFebE0GqUFuAs5+drRhgDl++dHHdg8frPA7exB8JaoJ7StenIGEnREAFYXAUtJ4mJg//7uk8=',\n",
       "   'x-amz-request-id': 'F9BA45798F723924',\n",
       "   'date': 'Sun, 07 Feb 2021 23:13:30 GMT',\n",
       "   'etag': '\"0a67b60f213ac681dcb50ea9dca56b48\"',\n",
       "   'content-length': '0',\n",
       "   'server': 'AmazonS3'},\n",
       "  'RetryAttempts': 0},\n",
       " 'ETag': '\"0a67b60f213ac681dcb50ea9dca56b48\"'}"
      ]
     },
     "metadata": {},
     "execution_count": 25
    }
   ],
   "source": [
    "# Envia os dados para o S3 \n",
    "s3 = boto3.resource(\n",
    "    's3',\n",
    "    region_name = 'sa-east-1',\n",
    "    aws_access_key_id = 'XXXXXX',\n",
    "    aws_secret_access_key = 'XXXXXXXX'\n",
    ")\n",
    "\n",
    "content=\"String content to write to a new S3 file\"\n",
    "s3.Object('igti-bootcamp-ed-2021-481399840610', 'regioes.txt').put(Body=str(regioes))"
   ]
  }
 ]
}
