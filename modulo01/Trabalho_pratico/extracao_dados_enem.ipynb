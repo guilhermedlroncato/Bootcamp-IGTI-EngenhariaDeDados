{
 "metadata": {
  "language_info": {
   "codemirror_mode": {
    "name": "ipython",
    "version": 3
   },
   "file_extension": ".py",
   "mimetype": "text/x-python",
   "name": "python",
   "nbconvert_exporter": "python",
   "pygments_lexer": "ipython3",
   "version": "3.7.6-final"
  },
  "orig_nbformat": 2,
  "kernelspec": {
   "name": "python3",
   "display_name": "Python 3"
  }
 },
 "nbformat": 4,
 "nbformat_minor": 2,
 "cells": [
  {
   "cell_type": "code",
   "execution_count": 1,
   "metadata": {},
   "outputs": [],
   "source": [
    "import pandas as pd\n",
    "import numpy as np \n",
    "import requests\n",
    "import zipfile\n",
    "from io import BytesIO\n",
    "import os"
   ]
  },
  {
   "cell_type": "code",
   "execution_count": 2,
   "metadata": {},
   "outputs": [],
   "source": [
    "# criar diretorio para armarzenar o arquivo no ENEM\n",
    "os.makedirs('./enem2019', exist_ok = True)"
   ]
  },
  {
   "cell_type": "code",
   "execution_count": 3,
   "metadata": {},
   "outputs": [],
   "source": [
    "# define a url \n",
    "url = 'http://download.inep.gov.br/microdados/microdados_enem_2019.zip'\n",
    "\n",
    "# download do conteudo\n",
    "filebytes = BytesIO(\n",
    "    requests.get(url).content\n",
    ")\n",
    "\n",
    "# extrair o conteudi do zipfile\n",
    "myzip = zipfile.ZipFile(filebytes)\n",
    "myzip.extractall('./enem2019/')"
   ]
  },
  {
   "cell_type": "code",
   "execution_count": 2,
   "metadata": {},
   "outputs": [],
   "source": [
    "# gerando dataframe com os dados baixados\n",
    "enem = pd.read_csv(\n",
    "    './enem2019/DADOS/microdados_enem_2019.csv',\n",
    "    sep = ';', decimal = ',', encoding = 'latin'\n",
    ")"
   ]
  },
  {
   "cell_type": "code",
   "execution_count": 3,
   "metadata": {},
   "outputs": [],
   "source": [
    "# filtrar os alunos de MG\n",
    "enemMG = enem.loc[enem.SG_UF_RESIDENCIA == 'MG']"
   ]
  },
  {
   "cell_type": "code",
   "execution_count": 9,
   "metadata": {},
   "outputs": [],
   "source": [
    "# salvar os dados de MG em um .csv na maquina local\n",
    "enemMG.to_csv('./enem2019MG.csv', encoding = 'latin', index = False)"
   ]
  },
  {
   "cell_type": "code",
   "execution_count": 10,
   "metadata": {},
   "outputs": [
    {
     "output_type": "stream",
     "name": "stdout",
     "text": [
      "(538896, 136)\n"
     ]
    }
   ],
   "source": [
    "print(enemMG.shape)"
   ]
  }
 ]
}